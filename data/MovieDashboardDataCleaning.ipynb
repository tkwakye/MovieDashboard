{
 "cells": [
  {
   "cell_type": "markdown",
   "metadata": {},
   "source": [
    "# Movie Rating Dashboard"
   ]
  },
  {
   "cell_type": "markdown",
   "metadata": {},
   "source": [
    "### Tiffanie Kwakye - \n",
    "#### DS 4003"
   ]
  },
  {
   "cell_type": "markdown",
   "metadata": {},
   "source": [
    "I chose the MovieLens 100K dataset becuase it provides a rich collection of user ratings and movie details, making it an ideal source for understanding user preferences and trends in movie ratings.\n",
    "\n",
    "The movie ratings data (u.data) and movie details data (u.item) were obtained from the MovieLens dataset, hosted by the GroupLens Research at the University of Minnesota.The data was collected through the MovieLens web site\n",
    "(movielens.umn.edu) during the seven-month period from September 19th, \n",
    "1997 through April 22nd, 1998. This data has been cleaned up - users\n",
    "who had less than 20 ratings or did not have complete demographic\n",
    "information were removed from this data set. Detailed descriptions of\n",
    "the data file can be found at the end of this file."
   ]
  },
  {
   "cell_type": "code",
   "execution_count": 18,
   "metadata": {},
   "outputs": [],
   "source": [
    "import dependecies\n",
    "import seaborn as sns\n",
    "import plotly.express as px\n",
    "import pandas as pd\n"
   ]
  },
  {
   "cell_type": "code",
   "execution_count": 4,
   "metadata": {},
   "outputs": [
    {
     "name": "stdout",
     "output_type": "stream",
     "text": [
      "       user_id  movie_id  rating                                      title  \\\n",
      "99958      863      1678       1                          Mat' i syn (1997)   \n",
      "99938      863      1679       3                           B. Monkey (1998)   \n",
      "99965      863      1680       2                       Sliding Doors (1998)   \n",
      "99984      896      1681       3                        You So Crazy (1994)   \n",
      "99994      916      1682       3  Scream of Stone (Schrei aus Stein) (1991)   \n",
      "\n",
      "      release_date  unknown  Action  Adventure  Animation  Children  ...  \\\n",
      "99958  06-Feb-1998        0       0          0          0         0  ...   \n",
      "99938  06-Feb-1998        0       0          0          0         0  ...   \n",
      "99965  01-Jan-1998        0       0          0          0         0  ...   \n",
      "99984  01-Jan-1994        0       0          0          0         0  ...   \n",
      "99994  08-Mar-1996        0       0          0          0         0  ...   \n",
      "\n",
      "       Fantasy  Film-Noir  Horror  Musical  Mystery  Romance  Sci-Fi  \\\n",
      "99958        0          0       0        0        0        0       0   \n",
      "99938        0          0       0        0        0        1       0   \n",
      "99965        0          0       0        0        0        1       0   \n",
      "99984        0          0       0        0        0        0       0   \n",
      "99994        0          0       0        0        0        0       0   \n",
      "\n",
      "       Thriller  War  Western  \n",
      "99958         0    0        0  \n",
      "99938         1    0        0  \n",
      "99965         0    0        0  \n",
      "99984         0    0        0  \n",
      "99994         0    0        0  \n",
      "\n",
      "[5 rows x 24 columns]\n"
     ]
    }
   ],
   "source": [
    "import pandas as pd\n",
    "\n",
    "# loads the movie ratings\n",
    "ratings_url = \"http://files.grouplens.org/datasets/movielens/ml-100k/u.data\"\n",
    "ratings_cols = ['user_id', 'movie_id', 'rating', 'timestamp']\n",
    "df_ratings = pd.read_csv(ratings_url, sep='\\t', names=ratings_cols)\n",
    "\n",
    "# loads the details of the movie\n",
    "movies_url = \"http://files.grouplens.org/datasets/movielens/ml-100k/u.item\"\n",
    "movies_cols = ['movie_id', 'title', 'release_date', 'video_release_date', 'imdb_url', 'unknown', 'Action', 'Adventure', 'Animation', 'Children', 'Comedy', 'Crime', 'Documentary', 'Drama', 'Fantasy', 'Film-Noir', 'Horror', 'Musical', 'Mystery', 'Romance', 'Sci-Fi', 'Thriller', 'War', 'Western']\n",
    "df_movies = pd.read_csv(movies_url, sep='|', encoding='latin-1', names=movies_cols, usecols=range(24))\n",
    "\n",
    "# merges the ratings and movie details on movie_id\n",
    "df_combined = pd.merge(df_ratings, df_movies, on='movie_id')\n",
    "\n",
    "# gets rid of unnecessary columns\n",
    "df_combined.drop(['timestamp', 'imdb_url', 'video_release_date'], axis=1, inplace=True)\n",
    "\n",
    "# sorts the combined DataFrame by movie_id\n",
    "df_combined_sorted = df_combined.sort_values(by='movie_id')\n",
    "\n",
    "# shows the sorted DataFrame\n",
    "print(df_combined_sorted.tail())"
   ]
  },
  {
   "cell_type": "markdown",
   "metadata": {},
   "source": [
    "## Exploratory analysis"
   ]
  },
  {
   "cell_type": "markdown",
   "metadata": {},
   "source": [
    "There are 100,000 observations in this data. I am using 24 unique variables of for the categorical variables(see data dictionary for details). The breakdown of the unique elements in the categories can be seen below Within each observation there is no \"missing data\" but the data set I used provided a lot more variables than I used. I did not include the timestamp, video realase date, imdb_url, tag, tagID, relevance, imdbld, and tmdbld. I did not include these variables in my data as I do not have a feature on my dashboard that these would be relevent for. All of my observations have data for the variables I have chosen to include. The distributions of the rating variable looks like a negative skew."
   ]
  },
  {
   "cell_type": "code",
   "execution_count": 39,
   "metadata": {},
   "outputs": [
    {
     "name": "stdout",
     "output_type": "stream",
     "text": [
      "Number of Observations: 100000\n",
      "\n",
      "<class 'pandas.core.frame.DataFrame'>\n",
      "Index: 100000 entries, 3732 to 99994\n",
      "Data columns (total 24 columns):\n",
      " #   Column        Non-Null Count   Dtype \n",
      "---  ------        --------------   ----- \n",
      " 0   user_id       100000 non-null  int64 \n",
      " 1   movie_id      100000 non-null  int64 \n",
      " 2   rating        100000 non-null  int64 \n",
      " 3   title         100000 non-null  object\n",
      " 4   release_date  99991 non-null   object\n",
      " 5   unknown       100000 non-null  int64 \n",
      " 6   Action        100000 non-null  int64 \n",
      " 7   Adventure     100000 non-null  int64 \n",
      " 8   Animation     100000 non-null  int64 \n",
      " 9   Children      100000 non-null  int64 \n",
      " 10  Comedy        100000 non-null  int64 \n",
      " 11  Crime         100000 non-null  int64 \n",
      " 12  Documentary   100000 non-null  int64 \n",
      " 13  Drama         100000 non-null  int64 \n",
      " 14  Fantasy       100000 non-null  int64 \n",
      " 15  Film-Noir     100000 non-null  int64 \n",
      " 16  Horror        100000 non-null  int64 \n",
      " 17  Musical       100000 non-null  int64 \n",
      " 18  Mystery       100000 non-null  int64 \n",
      " 19  Romance       100000 non-null  int64 \n",
      " 20  Sci-Fi        100000 non-null  int64 \n",
      " 21  Thriller      100000 non-null  int64 \n",
      " 22  War           100000 non-null  int64 \n",
      " 23  Western       100000 non-null  int64 \n",
      "dtypes: int64(22), object(2)\n",
      "memory usage: 19.1+ MB\n",
      "\n",
      "Number of unique elements breakdown:\n"
     ]
    },
    {
     "data": {
      "text/plain": [
       "user_id          943\n",
       "movie_id        1682\n",
       "rating             5\n",
       "title           1664\n",
       "release_date     240\n",
       "unknown            2\n",
       "Action             2\n",
       "Adventure          2\n",
       "Animation          2\n",
       "Children           2\n",
       "Comedy             2\n",
       "Crime              2\n",
       "Documentary        2\n",
       "Drama              2\n",
       "Fantasy            2\n",
       "Film-Noir          2\n",
       "Horror             2\n",
       "Musical            2\n",
       "Mystery            2\n",
       "Romance            2\n",
       "Sci-Fi             2\n",
       "Thriller           2\n",
       "War                2\n",
       "Western            2\n",
       "dtype: int64"
      ]
     },
     "execution_count": 39,
     "metadata": {},
     "output_type": "execute_result"
    }
   ],
   "source": [
    "num_observations = len(df_combined_sorted)\n",
    "print(\"Number of Observations:\", num_observations)\n",
    "categorical_columns = df_combined_sorted.select_dtypes(include=['object'])\n",
    "\n",
    "# calculates the number of unique categories for each categorical variable\n",
    "num_unique_categories = categorical_columns.nunique()\n",
    "print()\n",
    "\n",
    "# gets quick overview of datset\n",
    "df_combined_sorted.info( )\n",
    "print()\n",
    "\n",
    "# gets number of unique elements in the\n",
    "print(\"Number of unique elements breakdown:\")\n",
    "df_combined_sorted.nunique()\n",
    "\n",
    "# df_combined_sorted.duplicated() // these funtions show that there is no duplicate and missing values if you uncomment them \n",
    "# df_combined_sorted.isna( )\n"
   ]
  },
  {
   "cell_type": "code",
   "execution_count": 20,
   "metadata": {},
   "outputs": [
    {
     "data": {
      "image/png": "[encoded data removed]",
      "text/plain": [
       "<Figure size 640x480 with 1 Axes>"
      ]
     },
     "metadata": {},
     "output_type": "display_data"
    }
   ],
   "source": [
    "import matplotlib.pyplot as plt\n",
    "\n",
    "\n",
    "# plots histogram for the 'rating' column\n",
    "plt.hist(df_combined_sorted['rating'], bins=10, color='skyblue', edgecolor='black')\n",
    "plt.title('Distribution of Ratings')\n",
    "plt.xlabel('Rating')\n",
    "plt.ylabel('Frequency')\n",
    "plt.grid(True)\n",
    "plt.show()"
   ]
  },
  {
   "cell_type": "markdown",
   "metadata": {},
   "source": [
    "# Data Dictionary"
   ]
  },
  {
   "cell_type": "markdown",
   "metadata": {},
   "source": [
    "| Field Name | Data Type | Description |\n",
    "|-----------------|-----------------|-----------------|\n",
    "| user_id | int | MovieLens users were selected at random for inclusion. Their ids have been anonymized. User ids are consistent between `ratings.csv` and `tags.csv` |\n",
    "| movie_id | int | Only movies with at least one rating or tag are included in the dataset. These movie ids are consistent with those used on the MovieLens web site |\n",
    "| rating | int | All ratings are contained in the file `ratings.csv`. Each line of this file after the header row represents one rating of one movie by one user, ratings are made on a 5-star scale, with half-star increments  |\n",
    "| title | object | title of movie |\n",
    "| release_date | object | date when the movie was officially released in theaters or made available for public viewing |\n",
    "| Action | int | data is 1 if the genre of the movie includes action, 0 otherwise |\n",
    "| Adventure | int | data is 1 if the genre of the movie includes adventure, 0 otherwise |\n",
    "| Action | int | data is 1 if the genre of the movie includes action, 0 otherwise |\n",
    "| Animation | int | data is 1 if the genre of the movie includes animation, 0 otherwise |\n",
    "| Children | int | data is 1 if the genre of the movie includes children, 0 otherwise |\n",
    "| Comedy | int | data is 1 if the genre of the movie includes comedy, 0 otherwise |\n",
    "| Crime | int | data is 1 if the genre of the movie includes crime, 0 otherwise |\n",
    "| Documentary | int | data is 1 if the genre of the movie includes documentary, 0 otherwise |\n",
    "| Drama | int | data is 1 if the genre of the movie includes drama, 0 otherwise |\n",
    "| Fantasy | int | data is 1 if the genre of the movie includes fantasy, 0 otherwise |\n",
    "| Film-Noir | int | data is 1 if the genre of the movie includes film-Noir, 0 otherwise |\n",
    "| Horror | int | data is 1 if the genre of the movie includes horror, 0 otherwise |\n",
    "| Musical | int | data is 1 if the genre of the movie includes musical, 0 otherwise |\n",
    "| Mystery | int | data is 1 if the genre of the movie includes mystery, 0 otherwise |\n",
    "| Romance | int | data is 1 if the genre of the movie includes romance, 0 otherwise |\n",
    "| Sci-Fi | int | data is 1 if the genre of the movie includes sci-Fi, 0 otherwise |\n",
    "| Thriller | int | data is 1 if the genre of the movie includes thriller, 0 otherwise |\n",
    "| War | int | data is 1 if the genre of the movie includes war, 0 otherwise |\n",
    "| Mystery | int | data is 1 if the genre of the movie includes mystery, 0 otherwise |\n",
    "| Western | int | data is 1 if the genre of the movie includes western, 0 otherwise |\n",
    "| unknown | int | data is 1 if the genre of the movie is unknown, 0 otherwise |\n"
   ]
  },
  {
   "cell_type": "code",
   "execution_count": 38,
   "metadata": {},
   "outputs": [],
   "source": [
    "import pandas as pd\n",
    "\n",
    "df_combined_sorted.to_csv('data.csv', index=False) # makes csv of data"
   ]
  },
  {
   "cell_type": "markdown",
   "metadata": {},
   "source": [
    "[DS-Repo](https://github.com/myusername/myproject)"
   ]
  },
  {
   "cell_type": "markdown",
   "metadata": {},
   "source": [
    "# Potential UI components"
   ]
  },
  {
   "cell_type": "markdown",
   "metadata": {},
   "source": [
    "- filter movies based on genre, release year or rating\n",
    "- search bar to search by movie title\n",
    "- slider to narrow or widen filter of release date\n",
    "- allowing user to write their own review and give their own rating\n",
    "- sort movies based on genre, release year or rating\n",
    "- interative heatmap"
   ]
  },
  {
   "cell_type": "markdown",
   "metadata": {},
   "source": [
    "# Data visualizations "
   ]
  },
  {
   "cell_type": "markdown",
   "metadata": {},
   "source": [
    "- histogram that shown the rating distribution\n",
    "- line chart that shows the number of movies that release each year\n",
    "- pie chart that shows the distribution of movies by genre\n",
    "- heatmap that shows average ratings of movies with details such as release year and genre if hovered over(UI component as well)"
   ]
  }
 ],
 "metadata": {
  "kernelspec": {
   "display_name": "ds4003",
   "language": "python",
   "name": "python3"
  },
  "language_info": {
   "codemirror_mode": {
    "name": "ipython",
    "version": 3
   },
   "file_extension": ".py",
   "mimetype": "text/x-python",
   "name": "python",
   "nbconvert_exporter": "python",
   "pygments_lexer": "ipython3",
   "version": "3.8.18"
  }
 },
 "nbformat": 4,
 "nbformat_minor": 2
}
